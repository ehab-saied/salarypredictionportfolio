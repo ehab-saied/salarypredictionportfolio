{
 "cells": [
  {
   "cell_type": "markdown",
   "metadata": {},
   "source": [
    "# Salary Predictions Based on Job Descriptions"
   ]
  },
  {
   "cell_type": "markdown",
   "metadata": {},
   "source": [
    "# Part 1 - DEFINE"
   ]
  },
  {
   "cell_type": "markdown",
   "metadata": {},
   "source": [
    "### ---- 1 Define the problem ----"
   ]
  },
  {
   "cell_type": "markdown",
   "metadata": {},
   "source": [
    "In this case study I’m trying to build a predicted salaries model based on the provided variable."
   ]
  },
  {
   "cell_type": "code",
   "execution_count": 2,
   "metadata": {},
   "outputs": [],
   "source": [
    "#import your libraries\n",
    "import pandas as pd\n",
    "import numpy as np\n",
    "import seaborn as sns\n",
    "import matplotlib.pyplot as plt\n",
    "import sklearn as sk\n",
    "\n",
    "#your info here\n",
    "__author__ = \"Ehab Saied\"\n",
    "__email__ = \"ehab-saied@hotmail.com\""
   ]
  },
  {
   "cell_type": "markdown",
   "metadata": {},
   "source": [
    "## Part 2 - DISCOVER"
   ]
  },
  {
   "cell_type": "markdown",
   "metadata": {},
   "source": [
    "### ---- 2 Load the data ----"
   ]
  },
  {
   "cell_type": "code",
   "execution_count": 3,
   "metadata": {},
   "outputs": [],
   "source": [
    "#load the data into a Pandas dataframe\n",
    "train_feature = pd.read_csv('data/train_features.csv')\n",
    "train_target = pd.read_csv('data/train_salaries.csv')\n",
    "test_feature = pd.read_csv('data/test_features.csv')"
   ]
  },
  {
   "cell_type": "markdown",
   "metadata": {},
   "source": [
    "### ---- 3 Clean the data ----"
   ]
  },
  {
   "cell_type": "code",
   "execution_count": 4,
   "metadata": {},
   "outputs": [
    {
     "data": {
      "text/html": [
       "<div>\n",
       "<style scoped>\n",
       "    .dataframe tbody tr th:only-of-type {\n",
       "        vertical-align: middle;\n",
       "    }\n",
       "\n",
       "    .dataframe tbody tr th {\n",
       "        vertical-align: top;\n",
       "    }\n",
       "\n",
       "    .dataframe thead th {\n",
       "        text-align: right;\n",
       "    }\n",
       "</style>\n",
       "<table border=\"1\" class=\"dataframe\">\n",
       "  <thead>\n",
       "    <tr style=\"text-align: right;\">\n",
       "      <th></th>\n",
       "      <th>jobId</th>\n",
       "      <th>companyId</th>\n",
       "      <th>jobType</th>\n",
       "      <th>degree</th>\n",
       "      <th>major</th>\n",
       "      <th>industry</th>\n",
       "      <th>yearsExperience</th>\n",
       "      <th>milesFromMetropolis</th>\n",
       "    </tr>\n",
       "  </thead>\n",
       "  <tbody>\n",
       "    <tr>\n",
       "      <th>0</th>\n",
       "      <td>JOB1362684407687</td>\n",
       "      <td>COMP37</td>\n",
       "      <td>CFO</td>\n",
       "      <td>MASTERS</td>\n",
       "      <td>MATH</td>\n",
       "      <td>HEALTH</td>\n",
       "      <td>10</td>\n",
       "      <td>83</td>\n",
       "    </tr>\n",
       "    <tr>\n",
       "      <th>1</th>\n",
       "      <td>JOB1362684407688</td>\n",
       "      <td>COMP19</td>\n",
       "      <td>CEO</td>\n",
       "      <td>HIGH_SCHOOL</td>\n",
       "      <td>NONE</td>\n",
       "      <td>WEB</td>\n",
       "      <td>3</td>\n",
       "      <td>73</td>\n",
       "    </tr>\n",
       "    <tr>\n",
       "      <th>2</th>\n",
       "      <td>JOB1362684407689</td>\n",
       "      <td>COMP52</td>\n",
       "      <td>VICE_PRESIDENT</td>\n",
       "      <td>DOCTORAL</td>\n",
       "      <td>PHYSICS</td>\n",
       "      <td>HEALTH</td>\n",
       "      <td>10</td>\n",
       "      <td>38</td>\n",
       "    </tr>\n",
       "    <tr>\n",
       "      <th>3</th>\n",
       "      <td>JOB1362684407690</td>\n",
       "      <td>COMP38</td>\n",
       "      <td>MANAGER</td>\n",
       "      <td>DOCTORAL</td>\n",
       "      <td>CHEMISTRY</td>\n",
       "      <td>AUTO</td>\n",
       "      <td>8</td>\n",
       "      <td>17</td>\n",
       "    </tr>\n",
       "    <tr>\n",
       "      <th>4</th>\n",
       "      <td>JOB1362684407691</td>\n",
       "      <td>COMP7</td>\n",
       "      <td>VICE_PRESIDENT</td>\n",
       "      <td>BACHELORS</td>\n",
       "      <td>PHYSICS</td>\n",
       "      <td>FINANCE</td>\n",
       "      <td>8</td>\n",
       "      <td>16</td>\n",
       "    </tr>\n",
       "  </tbody>\n",
       "</table>\n",
       "</div>"
      ],
      "text/plain": [
       "              jobId companyId         jobType       degree      major  \\\n",
       "0  JOB1362684407687    COMP37             CFO      MASTERS       MATH   \n",
       "1  JOB1362684407688    COMP19             CEO  HIGH_SCHOOL       NONE   \n",
       "2  JOB1362684407689    COMP52  VICE_PRESIDENT     DOCTORAL    PHYSICS   \n",
       "3  JOB1362684407690    COMP38         MANAGER     DOCTORAL  CHEMISTRY   \n",
       "4  JOB1362684407691     COMP7  VICE_PRESIDENT    BACHELORS    PHYSICS   \n",
       "\n",
       "  industry  yearsExperience  milesFromMetropolis  \n",
       "0   HEALTH               10                   83  \n",
       "1      WEB                3                   73  \n",
       "2   HEALTH               10                   38  \n",
       "3     AUTO                8                   17  \n",
       "4  FINANCE                8                   16  "
      ]
     },
     "execution_count": 4,
     "metadata": {},
     "output_type": "execute_result"
    }
   ],
   "source": [
    "#check the train_feature first lines\n",
    "train_feature.head()"
   ]
  },
  {
   "cell_type": "code",
   "execution_count": 5,
   "metadata": {},
   "outputs": [
    {
     "data": {
      "text/html": [
       "<div>\n",
       "<style scoped>\n",
       "    .dataframe tbody tr th:only-of-type {\n",
       "        vertical-align: middle;\n",
       "    }\n",
       "\n",
       "    .dataframe tbody tr th {\n",
       "        vertical-align: top;\n",
       "    }\n",
       "\n",
       "    .dataframe thead th {\n",
       "        text-align: right;\n",
       "    }\n",
       "</style>\n",
       "<table border=\"1\" class=\"dataframe\">\n",
       "  <thead>\n",
       "    <tr style=\"text-align: right;\">\n",
       "      <th></th>\n",
       "      <th>jobId</th>\n",
       "      <th>salary</th>\n",
       "    </tr>\n",
       "  </thead>\n",
       "  <tbody>\n",
       "    <tr>\n",
       "      <th>0</th>\n",
       "      <td>JOB1362684407687</td>\n",
       "      <td>130</td>\n",
       "    </tr>\n",
       "    <tr>\n",
       "      <th>1</th>\n",
       "      <td>JOB1362684407688</td>\n",
       "      <td>101</td>\n",
       "    </tr>\n",
       "    <tr>\n",
       "      <th>2</th>\n",
       "      <td>JOB1362684407689</td>\n",
       "      <td>137</td>\n",
       "    </tr>\n",
       "    <tr>\n",
       "      <th>3</th>\n",
       "      <td>JOB1362684407690</td>\n",
       "      <td>142</td>\n",
       "    </tr>\n",
       "    <tr>\n",
       "      <th>4</th>\n",
       "      <td>JOB1362684407691</td>\n",
       "      <td>163</td>\n",
       "    </tr>\n",
       "  </tbody>\n",
       "</table>\n",
       "</div>"
      ],
      "text/plain": [
       "              jobId  salary\n",
       "0  JOB1362684407687     130\n",
       "1  JOB1362684407688     101\n",
       "2  JOB1362684407689     137\n",
       "3  JOB1362684407690     142\n",
       "4  JOB1362684407691     163"
      ]
     },
     "execution_count": 5,
     "metadata": {},
     "output_type": "execute_result"
    }
   ],
   "source": [
    "#check the train_target first lines\n",
    "train_target.head()"
   ]
  },
  {
   "cell_type": "code",
   "execution_count": 6,
   "metadata": {},
   "outputs": [
    {
     "data": {
      "text/html": [
       "<div>\n",
       "<style scoped>\n",
       "    .dataframe tbody tr th:only-of-type {\n",
       "        vertical-align: middle;\n",
       "    }\n",
       "\n",
       "    .dataframe tbody tr th {\n",
       "        vertical-align: top;\n",
       "    }\n",
       "\n",
       "    .dataframe thead th {\n",
       "        text-align: right;\n",
       "    }\n",
       "</style>\n",
       "<table border=\"1\" class=\"dataframe\">\n",
       "  <thead>\n",
       "    <tr style=\"text-align: right;\">\n",
       "      <th></th>\n",
       "      <th>jobId</th>\n",
       "      <th>companyId</th>\n",
       "      <th>jobType</th>\n",
       "      <th>degree</th>\n",
       "      <th>major</th>\n",
       "      <th>industry</th>\n",
       "      <th>yearsExperience</th>\n",
       "      <th>milesFromMetropolis</th>\n",
       "    </tr>\n",
       "  </thead>\n",
       "  <tbody>\n",
       "    <tr>\n",
       "      <th>0</th>\n",
       "      <td>JOB1362685407687</td>\n",
       "      <td>COMP33</td>\n",
       "      <td>MANAGER</td>\n",
       "      <td>HIGH_SCHOOL</td>\n",
       "      <td>NONE</td>\n",
       "      <td>HEALTH</td>\n",
       "      <td>22</td>\n",
       "      <td>73</td>\n",
       "    </tr>\n",
       "    <tr>\n",
       "      <th>1</th>\n",
       "      <td>JOB1362685407688</td>\n",
       "      <td>COMP13</td>\n",
       "      <td>JUNIOR</td>\n",
       "      <td>NONE</td>\n",
       "      <td>NONE</td>\n",
       "      <td>AUTO</td>\n",
       "      <td>20</td>\n",
       "      <td>47</td>\n",
       "    </tr>\n",
       "    <tr>\n",
       "      <th>2</th>\n",
       "      <td>JOB1362685407689</td>\n",
       "      <td>COMP10</td>\n",
       "      <td>CTO</td>\n",
       "      <td>MASTERS</td>\n",
       "      <td>BIOLOGY</td>\n",
       "      <td>HEALTH</td>\n",
       "      <td>17</td>\n",
       "      <td>9</td>\n",
       "    </tr>\n",
       "    <tr>\n",
       "      <th>3</th>\n",
       "      <td>JOB1362685407690</td>\n",
       "      <td>COMP21</td>\n",
       "      <td>MANAGER</td>\n",
       "      <td>HIGH_SCHOOL</td>\n",
       "      <td>NONE</td>\n",
       "      <td>OIL</td>\n",
       "      <td>14</td>\n",
       "      <td>96</td>\n",
       "    </tr>\n",
       "    <tr>\n",
       "      <th>4</th>\n",
       "      <td>JOB1362685407691</td>\n",
       "      <td>COMP36</td>\n",
       "      <td>JUNIOR</td>\n",
       "      <td>DOCTORAL</td>\n",
       "      <td>BIOLOGY</td>\n",
       "      <td>OIL</td>\n",
       "      <td>10</td>\n",
       "      <td>44</td>\n",
       "    </tr>\n",
       "  </tbody>\n",
       "</table>\n",
       "</div>"
      ],
      "text/plain": [
       "              jobId companyId  jobType       degree    major industry  \\\n",
       "0  JOB1362685407687    COMP33  MANAGER  HIGH_SCHOOL     NONE   HEALTH   \n",
       "1  JOB1362685407688    COMP13   JUNIOR         NONE     NONE     AUTO   \n",
       "2  JOB1362685407689    COMP10      CTO      MASTERS  BIOLOGY   HEALTH   \n",
       "3  JOB1362685407690    COMP21  MANAGER  HIGH_SCHOOL     NONE      OIL   \n",
       "4  JOB1362685407691    COMP36   JUNIOR     DOCTORAL  BIOLOGY      OIL   \n",
       "\n",
       "   yearsExperience  milesFromMetropolis  \n",
       "0               22                   73  \n",
       "1               20                   47  \n",
       "2               17                    9  \n",
       "3               14                   96  \n",
       "4               10                   44  "
      ]
     },
     "execution_count": 6,
     "metadata": {},
     "output_type": "execute_result"
    }
   ],
   "source": [
    "#check the test_feature first lines\n",
    "test_feature.head()"
   ]
  },
  {
   "cell_type": "code",
   "execution_count": 7,
   "metadata": {},
   "outputs": [
    {
     "name": "stdout",
     "output_type": "stream",
     "text": [
      "<class 'pandas.core.frame.DataFrame'>\n",
      "RangeIndex: 1000000 entries, 0 to 999999\n",
      "Data columns (total 8 columns):\n",
      "jobId                  1000000 non-null object\n",
      "companyId              1000000 non-null object\n",
      "jobType                1000000 non-null object\n",
      "degree                 1000000 non-null object\n",
      "major                  1000000 non-null object\n",
      "industry               1000000 non-null object\n",
      "yearsExperience        1000000 non-null int64\n",
      "milesFromMetropolis    1000000 non-null int64\n",
      "dtypes: int64(2), object(6)\n",
      "memory usage: 61.0+ MB\n"
     ]
    }
   ],
   "source": [
    "#check the train_feature info\n",
    "train_feature.info()"
   ]
  },
  {
   "cell_type": "code",
   "execution_count": 8,
   "metadata": {},
   "outputs": [
    {
     "name": "stdout",
     "output_type": "stream",
     "text": [
      "<class 'pandas.core.frame.DataFrame'>\n",
      "RangeIndex: 1000000 entries, 0 to 999999\n",
      "Data columns (total 2 columns):\n",
      "jobId     1000000 non-null object\n",
      "salary    1000000 non-null int64\n",
      "dtypes: int64(1), object(1)\n",
      "memory usage: 15.3+ MB\n"
     ]
    }
   ],
   "source": [
    "#check the train_target info\n",
    "train_target.info()"
   ]
  },
  {
   "cell_type": "code",
   "execution_count": 9,
   "metadata": {},
   "outputs": [
    {
     "name": "stdout",
     "output_type": "stream",
     "text": [
      "<class 'pandas.core.frame.DataFrame'>\n",
      "RangeIndex: 1000000 entries, 0 to 999999\n",
      "Data columns (total 8 columns):\n",
      "jobId                  1000000 non-null object\n",
      "companyId              1000000 non-null object\n",
      "jobType                1000000 non-null object\n",
      "degree                 1000000 non-null object\n",
      "major                  1000000 non-null object\n",
      "industry               1000000 non-null object\n",
      "yearsExperience        1000000 non-null int64\n",
      "milesFromMetropolis    1000000 non-null int64\n",
      "dtypes: int64(2), object(6)\n",
      "memory usage: 61.0+ MB\n"
     ]
    }
   ],
   "source": [
    "#check the test_feature info\n",
    "test_feature.info()"
   ]
  },
  {
   "cell_type": "code",
   "execution_count": 10,
   "metadata": {},
   "outputs": [
    {
     "name": "stdout",
     "output_type": "stream",
     "text": [
      "<class 'pandas.core.frame.DataFrame'>\n",
      "Int64Index: 1000000 entries, 0 to 999999\n",
      "Data columns (total 9 columns):\n",
      "jobId                  1000000 non-null object\n",
      "companyId              1000000 non-null object\n",
      "jobType                1000000 non-null object\n",
      "degree                 1000000 non-null object\n",
      "major                  1000000 non-null object\n",
      "industry               1000000 non-null object\n",
      "yearsExperience        1000000 non-null int64\n",
      "milesFromMetropolis    1000000 non-null int64\n",
      "salary                 1000000 non-null int64\n",
      "dtypes: int64(3), object(6)\n",
      "memory usage: 76.3+ MB\n"
     ]
    }
   ],
   "source": [
    "# merage the train_feature and the train_target data\n",
    "train_merage = pd.merge(train_feature, train_target, on='jobId', how='inner')\n",
    "train_merage.info()"
   ]
  },
  {
   "cell_type": "code",
   "execution_count": 11,
   "metadata": {},
   "outputs": [
    {
     "data": {
      "text/html": [
       "<div>\n",
       "<style scoped>\n",
       "    .dataframe tbody tr th:only-of-type {\n",
       "        vertical-align: middle;\n",
       "    }\n",
       "\n",
       "    .dataframe tbody tr th {\n",
       "        vertical-align: top;\n",
       "    }\n",
       "\n",
       "    .dataframe thead th {\n",
       "        text-align: right;\n",
       "    }\n",
       "</style>\n",
       "<table border=\"1\" class=\"dataframe\">\n",
       "  <thead>\n",
       "    <tr style=\"text-align: right;\">\n",
       "      <th></th>\n",
       "      <th>jobId</th>\n",
       "      <th>companyId</th>\n",
       "      <th>jobType</th>\n",
       "      <th>degree</th>\n",
       "      <th>major</th>\n",
       "      <th>industry</th>\n",
       "      <th>yearsExperience</th>\n",
       "      <th>milesFromMetropolis</th>\n",
       "      <th>salary</th>\n",
       "    </tr>\n",
       "  </thead>\n",
       "  <tbody>\n",
       "    <tr>\n",
       "      <th>0</th>\n",
       "      <td>JOB1362684407687</td>\n",
       "      <td>COMP37</td>\n",
       "      <td>CFO</td>\n",
       "      <td>MASTERS</td>\n",
       "      <td>MATH</td>\n",
       "      <td>HEALTH</td>\n",
       "      <td>10</td>\n",
       "      <td>83</td>\n",
       "      <td>130</td>\n",
       "    </tr>\n",
       "    <tr>\n",
       "      <th>1</th>\n",
       "      <td>JOB1362684407688</td>\n",
       "      <td>COMP19</td>\n",
       "      <td>CEO</td>\n",
       "      <td>HIGH_SCHOOL</td>\n",
       "      <td>NONE</td>\n",
       "      <td>WEB</td>\n",
       "      <td>3</td>\n",
       "      <td>73</td>\n",
       "      <td>101</td>\n",
       "    </tr>\n",
       "    <tr>\n",
       "      <th>2</th>\n",
       "      <td>JOB1362684407689</td>\n",
       "      <td>COMP52</td>\n",
       "      <td>VICE_PRESIDENT</td>\n",
       "      <td>DOCTORAL</td>\n",
       "      <td>PHYSICS</td>\n",
       "      <td>HEALTH</td>\n",
       "      <td>10</td>\n",
       "      <td>38</td>\n",
       "      <td>137</td>\n",
       "    </tr>\n",
       "    <tr>\n",
       "      <th>3</th>\n",
       "      <td>JOB1362684407690</td>\n",
       "      <td>COMP38</td>\n",
       "      <td>MANAGER</td>\n",
       "      <td>DOCTORAL</td>\n",
       "      <td>CHEMISTRY</td>\n",
       "      <td>AUTO</td>\n",
       "      <td>8</td>\n",
       "      <td>17</td>\n",
       "      <td>142</td>\n",
       "    </tr>\n",
       "    <tr>\n",
       "      <th>4</th>\n",
       "      <td>JOB1362684407691</td>\n",
       "      <td>COMP7</td>\n",
       "      <td>VICE_PRESIDENT</td>\n",
       "      <td>BACHELORS</td>\n",
       "      <td>PHYSICS</td>\n",
       "      <td>FINANCE</td>\n",
       "      <td>8</td>\n",
       "      <td>16</td>\n",
       "      <td>163</td>\n",
       "    </tr>\n",
       "  </tbody>\n",
       "</table>\n",
       "</div>"
      ],
      "text/plain": [
       "              jobId companyId         jobType       degree      major  \\\n",
       "0  JOB1362684407687    COMP37             CFO      MASTERS       MATH   \n",
       "1  JOB1362684407688    COMP19             CEO  HIGH_SCHOOL       NONE   \n",
       "2  JOB1362684407689    COMP52  VICE_PRESIDENT     DOCTORAL    PHYSICS   \n",
       "3  JOB1362684407690    COMP38         MANAGER     DOCTORAL  CHEMISTRY   \n",
       "4  JOB1362684407691     COMP7  VICE_PRESIDENT    BACHELORS    PHYSICS   \n",
       "\n",
       "  industry  yearsExperience  milesFromMetropolis  salary  \n",
       "0   HEALTH               10                   83     130  \n",
       "1      WEB                3                   73     101  \n",
       "2   HEALTH               10                   38     137  \n",
       "3     AUTO                8                   17     142  \n",
       "4  FINANCE                8                   16     163  "
      ]
     },
     "execution_count": 11,
     "metadata": {},
     "output_type": "execute_result"
    }
   ],
   "source": [
    "#check the train_merage first lines\n",
    "train_merage.head()"
   ]
  },
  {
   "cell_type": "code",
   "execution_count": 12,
   "metadata": {},
   "outputs": [
    {
     "data": {
      "text/plain": [
       "0"
      ]
     },
     "execution_count": 12,
     "metadata": {},
     "output_type": "execute_result"
    }
   ],
   "source": [
    "#look for duplicate in new training df\n",
    "train_merage.duplicated().sum()"
   ]
  },
  {
   "cell_type": "code",
   "execution_count": 13,
   "metadata": {},
   "outputs": [
    {
     "data": {
      "text/plain": [
       "0"
      ]
     },
     "execution_count": 13,
     "metadata": {},
     "output_type": "execute_result"
    }
   ],
   "source": [
    "#look for duplicate in test df\n",
    "test_feature.duplicated().sum()"
   ]
  },
  {
   "cell_type": "code",
   "execution_count": 14,
   "metadata": {},
   "outputs": [
    {
     "data": {
      "text/plain": [
       "5"
      ]
     },
     "execution_count": 14,
     "metadata": {},
     "output_type": "execute_result"
    }
   ],
   "source": [
    "#checking if there is invalid data (e.g. salaries <=0)\n",
    "(train_merage.salary <= 0).sum()"
   ]
  },
  {
   "cell_type": "markdown",
   "metadata": {},
   "source": [
    "There are five salary values that is less than or equal to zero."
   ]
  },
  {
   "cell_type": "code",
   "execution_count": 15,
   "metadata": {},
   "outputs": [
    {
     "name": "stdout",
     "output_type": "stream",
     "text": [
      "<class 'pandas.core.frame.DataFrame'>\n",
      "Int64Index: 999995 entries, 0 to 999999\n",
      "Data columns (total 9 columns):\n",
      "jobId                  999995 non-null object\n",
      "companyId              999995 non-null object\n",
      "jobType                999995 non-null object\n",
      "degree                 999995 non-null object\n",
      "major                  999995 non-null object\n",
      "industry               999995 non-null object\n",
      "yearsExperience        999995 non-null int64\n",
      "milesFromMetropolis    999995 non-null int64\n",
      "salary                 999995 non-null int64\n",
      "dtypes: int64(3), object(6)\n",
      "memory usage: 76.3+ MB\n"
     ]
    }
   ],
   "source": [
    "#remove the 0 values\n",
    "train_df = train_merage[(train_merage.salary != 0)]\n",
    "train_df.info()"
   ]
  },
  {
   "cell_type": "markdown",
   "metadata": {},
   "source": [
    "We removed the rows that contain zero values."
   ]
  },
  {
   "cell_type": "markdown",
   "metadata": {},
   "source": [
    "### ---- 4 Explore the data (EDA) ----"
   ]
  },
  {
   "cell_type": "code",
   "execution_count": 16,
   "metadata": {
    "scrolled": true
   },
   "outputs": [
    {
     "data": {
      "image/png": "[encoded data removed]",
      "text/plain": [
       "<matplotlib.figure.Figure at 0x7fc7969162b0>"
      ]
     },
     "metadata": {},
     "output_type": "display_data"
    }
   ],
   "source": [
    "#summarize the target variable distribution\n",
    "sns.distplot(train_df.salary, bins=10)\n",
    "plt.show()"
   ]
  },
  {
   "cell_type": "code",
   "execution_count": 17,
   "metadata": {},
   "outputs": [
    {
     "name": "stderr",
     "output_type": "stream",
     "text": [
      "/usr/lib/python3/dist-packages/seaborn/categorical.py:462: FutureWarning: remove_na is deprecated and is a private function. Do not use.\n",
      "  box_data = remove_na(group_data)\n"
     ]
    },
    {
     "data": {
      "image/png": "[encoded data removed]",
      "text/plain": [
       "<matplotlib.figure.Figure at 0x7fc7a7e32c88>"
      ]
     },
     "metadata": {},
     "output_type": "display_data"
    }
   ],
   "source": [
    "#summarize the target variable boxplot\n",
    "sns.boxplot(train_df.salary)\n",
    "plt.show()"
   ]
  },
  {
   "cell_type": "markdown",
   "metadata": {},
   "source": [
    "There are some values that they looks like outliers but when I investigate it it all looks normal and acceptable."
   ]
  },
  {
   "cell_type": "code",
   "execution_count": 18,
   "metadata": {},
   "outputs": [],
   "source": [
    "#look for correlation between categorical feature and the target\n",
    "def plot_feat(df, col):\n",
    "    plt.subplot(3,1,1)\n",
    "    ordered = df.groupby(by=[col])['salary'].median().sort_values(ascending=True).index\n",
    "    sns.boxplot(x=col, y=\"salary\", data=df, order=ordered)\n",
    "    \n",
    "    plt.subplot(3,1,2)\n",
    "    mean=df.groupby(by=[col])['salary'].mean().sort_values().plot()\n",
    "    plt.xlabel(col)\n",
    "    plt.ylabel('salary mean')"
   ]
  },
  {
   "cell_type": "code",
   "execution_count": 19,
   "metadata": {},
   "outputs": [
    {
     "name": "stderr",
     "output_type": "stream",
     "text": [
      "/usr/lib/python3/dist-packages/seaborn/categorical.py:462: FutureWarning: remove_na is deprecated and is a private function. Do not use.\n",
      "  box_data = remove_na(group_data)\n"
     ]
    },
    {
     "data": {
      "image/png": "[encoded data removed]",
      "text/plain": [
       "<matplotlib.figure.Figure at 0x7fc7a7c95588>"
      ]
     },
     "metadata": {},
     "output_type": "display_data"
    }
   ],
   "source": [
    "#correlation between companyId and the salary\n",
    "plot_feat(train_df, 'companyId')"
   ]
  },
  {
   "cell_type": "code",
   "execution_count": 20,
   "metadata": {},
   "outputs": [
    {
     "name": "stderr",
     "output_type": "stream",
     "text": [
      "/usr/lib/python3/dist-packages/seaborn/categorical.py:462: FutureWarning: remove_na is deprecated and is a private function. Do not use.\n",
      "  box_data = remove_na(group_data)\n"
     ]
    },
    {
     "data": {
      "image/png": "[encoded data removed]",
      "text/plain": [
       "<matplotlib.figure.Figure at 0x7fc7a7861390>"
      ]
     },
     "metadata": {},
     "output_type": "display_data"
    }
   ],
   "source": [
    "#correlation between jobType and the salary\n",
    "plot_feat(train_df, 'jobType')"
   ]
  },
  {
   "cell_type": "markdown",
   "metadata": {},
   "source": [
    "We can see the positive relation between jobType and salary, the higher jobType the higher the income."
   ]
  },
  {
   "cell_type": "code",
   "execution_count": 22,
   "metadata": {},
   "outputs": [
    {
     "name": "stderr",
     "output_type": "stream",
     "text": [
      "/usr/lib/python3/dist-packages/seaborn/categorical.py:462: FutureWarning: remove_na is deprecated and is a private function. Do not use.\n",
      "  box_data = remove_na(group_data)\n"
     ]
    },
    {
     "data": {
      "image/png": "[encoded data removed]",
      "text/plain": [
       "<matplotlib.figure.Figure at 0x7fc78f40bf60>"
      ]
     },
     "metadata": {},
     "output_type": "display_data"
    }
   ],
   "source": [
    "#correlation between degree and the salary\n",
    "plot_feat(train_df, 'degree')"
   ]
  },
  {
   "cell_type": "markdown",
   "metadata": {},
   "source": [
    "There is a positive relation between degree and salary."
   ]
  },
  {
   "cell_type": "code",
   "execution_count": 23,
   "metadata": {},
   "outputs": [
    {
     "name": "stderr",
     "output_type": "stream",
     "text": [
      "/usr/lib/python3/dist-packages/seaborn/categorical.py:462: FutureWarning: remove_na is deprecated and is a private function. Do not use.\n",
      "  box_data = remove_na(group_data)\n"
     ]
    },
    {
     "data": {
      "image/png": "[encoded data removed]",
      "text/plain": [
       "<matplotlib.figure.Figure at 0x7fc78f40b588>"
      ]
     },
     "metadata": {},
     "output_type": "display_data"
    }
   ],
   "source": [
    "#correlation between major and the salary\n",
    "plot_feat(train_df, 'major')"
   ]
  },
  {
   "cell_type": "markdown",
   "metadata": {},
   "source": [
    "The none major workers have the lower salary while the engineering major have the higher salary."
   ]
  },
  {
   "cell_type": "code",
   "execution_count": 24,
   "metadata": {},
   "outputs": [
    {
     "name": "stderr",
     "output_type": "stream",
     "text": [
      "/usr/lib/python3/dist-packages/seaborn/categorical.py:462: FutureWarning: remove_na is deprecated and is a private function. Do not use.\n",
      "  box_data = remove_na(group_data)\n"
     ]
    },
    {
     "data": {
      "image/png": "[encoded data removed]",
      "text/plain": [
       "<matplotlib.figure.Figure at 0x7fc7a7861eb8>"
      ]
     },
     "metadata": {},
     "output_type": "display_data"
    }
   ],
   "source": [
    "#correlation between industry and the salary\n",
    "plot_feat(train_df, 'industry')"
   ]
  },
  {
   "cell_type": "markdown",
   "metadata": {},
   "source": [
    "While he education industrial get the lower salary, the oil industrial make the higher salary."
   ]
  },
  {
   "cell_type": "raw",
   "metadata": {},
   "source": [
    "#look for correlation between numarical feature and the target\n",
    "#correlation between yearsExperience and the salary\n",
    "train_df.groupby('yearsExperience')['salary'].mean().plot()\n",
    "plt.ylabel('Salary')"
   ]
  },
  {
   "cell_type": "markdown",
   "metadata": {},
   "source": [
    "There is a positive correlation between years of experience and salary."
   ]
  },
  {
   "cell_type": "code",
   "execution_count": 25,
   "metadata": {},
   "outputs": [
    {
     "data": {
      "text/plain": [
       "Text(0,0.5,'Salary')"
      ]
     },
     "execution_count": 25,
     "metadata": {},
     "output_type": "execute_result"
    },
    {
     "data": {
      "image/png": "[encoded data removed]",
      "text/plain": [
       "<matplotlib.figure.Figure at 0x7fc78f342f60>"
      ]
     },
     "metadata": {},
     "output_type": "display_data"
    }
   ],
   "source": [
    "#correlation between yearsExperience and the salary\n",
    "train_df.groupby('milesFromMetropolis')['salary'].mean().plot()\n",
    "plt.ylabel('Salary')"
   ]
  },
  {
   "cell_type": "markdown",
   "metadata": {},
   "source": [
    "There is a negative correlation between milesFromMetropolis and salary."
   ]
  },
  {
   "cell_type": "code",
   "execution_count": 26,
   "metadata": {},
   "outputs": [
    {
     "data": {
      "text/plain": [
       "<matplotlib.axes._subplots.AxesSubplot at 0x7fc7a7c72a58>"
      ]
     },
     "execution_count": 26,
     "metadata": {},
     "output_type": "execute_result"
    },
    {
     "data": {
      "image/png": "[encoded data removed]",
      "text/plain": [
       "<matplotlib.figure.Figure at 0x7fc7a7d79438>"
      ]
     },
     "metadata": {},
     "output_type": "display_data"
    }
   ],
   "source": [
    "corr = train_df.corr()\n",
    "sns.heatmap(corr, \n",
    "        xticklabels=corr.columns,\n",
    "        yticklabels=corr.columns)"
   ]
  },
  {
   "cell_type": "code",
   "execution_count": 27,
   "metadata": {},
   "outputs": [],
   "source": [
    "#separate categorical variables from numerical variables in the train df\n",
    "cat_train = train_df[['companyId', 'jobType', 'degree', 'major', 'industry']]\n",
    "num_train = train_df[['yearsExperience', 'milesFromMetropolis']]"
   ]
  },
  {
   "cell_type": "code",
   "execution_count": 28,
   "metadata": {},
   "outputs": [],
   "source": [
    "#encode the categorical variables in the train df\n",
    "cat_code_train = pd.get_dummies(cat_train)\n",
    "num_code_train = (num_train).apply(pd.to_numeric)"
   ]
  },
  {
   "cell_type": "code",
   "execution_count": 29,
   "metadata": {},
   "outputs": [
    {
     "name": "stdout",
     "output_type": "stream",
     "text": [
      "<class 'pandas.core.frame.DataFrame'>\n",
      "Int64Index: 999995 entries, 0 to 999999\n",
      "Data columns (total 94 columns):\n",
      "companyId_COMP0           999995 non-null uint8\n",
      "companyId_COMP1           999995 non-null uint8\n",
      "companyId_COMP10          999995 non-null uint8\n",
      "companyId_COMP11          999995 non-null uint8\n",
      "companyId_COMP12          999995 non-null uint8\n",
      "companyId_COMP13          999995 non-null uint8\n",
      "companyId_COMP14          999995 non-null uint8\n",
      "companyId_COMP15          999995 non-null uint8\n",
      "companyId_COMP16          999995 non-null uint8\n",
      "companyId_COMP17          999995 non-null uint8\n",
      "companyId_COMP18          999995 non-null uint8\n",
      "companyId_COMP19          999995 non-null uint8\n",
      "companyId_COMP2           999995 non-null uint8\n",
      "companyId_COMP20          999995 non-null uint8\n",
      "companyId_COMP21          999995 non-null uint8\n",
      "companyId_COMP22          999995 non-null uint8\n",
      "companyId_COMP23          999995 non-null uint8\n",
      "companyId_COMP24          999995 non-null uint8\n",
      "companyId_COMP25          999995 non-null uint8\n",
      "companyId_COMP26          999995 non-null uint8\n",
      "companyId_COMP27          999995 non-null uint8\n",
      "companyId_COMP28          999995 non-null uint8\n",
      "companyId_COMP29          999995 non-null uint8\n",
      "companyId_COMP3           999995 non-null uint8\n",
      "companyId_COMP30          999995 non-null uint8\n",
      "companyId_COMP31          999995 non-null uint8\n",
      "companyId_COMP32          999995 non-null uint8\n",
      "companyId_COMP33          999995 non-null uint8\n",
      "companyId_COMP34          999995 non-null uint8\n",
      "companyId_COMP35          999995 non-null uint8\n",
      "companyId_COMP36          999995 non-null uint8\n",
      "companyId_COMP37          999995 non-null uint8\n",
      "companyId_COMP38          999995 non-null uint8\n",
      "companyId_COMP39          999995 non-null uint8\n",
      "companyId_COMP4           999995 non-null uint8\n",
      "companyId_COMP40          999995 non-null uint8\n",
      "companyId_COMP41          999995 non-null uint8\n",
      "companyId_COMP42          999995 non-null uint8\n",
      "companyId_COMP43          999995 non-null uint8\n",
      "companyId_COMP44          999995 non-null uint8\n",
      "companyId_COMP45          999995 non-null uint8\n",
      "companyId_COMP46          999995 non-null uint8\n",
      "companyId_COMP47          999995 non-null uint8\n",
      "companyId_COMP48          999995 non-null uint8\n",
      "companyId_COMP49          999995 non-null uint8\n",
      "companyId_COMP5           999995 non-null uint8\n",
      "companyId_COMP50          999995 non-null uint8\n",
      "companyId_COMP51          999995 non-null uint8\n",
      "companyId_COMP52          999995 non-null uint8\n",
      "companyId_COMP53          999995 non-null uint8\n",
      "companyId_COMP54          999995 non-null uint8\n",
      "companyId_COMP55          999995 non-null uint8\n",
      "companyId_COMP56          999995 non-null uint8\n",
      "companyId_COMP57          999995 non-null uint8\n",
      "companyId_COMP58          999995 non-null uint8\n",
      "companyId_COMP59          999995 non-null uint8\n",
      "companyId_COMP6           999995 non-null uint8\n",
      "companyId_COMP60          999995 non-null uint8\n",
      "companyId_COMP61          999995 non-null uint8\n",
      "companyId_COMP62          999995 non-null uint8\n",
      "companyId_COMP7           999995 non-null uint8\n",
      "companyId_COMP8           999995 non-null uint8\n",
      "companyId_COMP9           999995 non-null uint8\n",
      "jobType_CEO               999995 non-null uint8\n",
      "jobType_CFO               999995 non-null uint8\n",
      "jobType_CTO               999995 non-null uint8\n",
      "jobType_JANITOR           999995 non-null uint8\n",
      "jobType_JUNIOR            999995 non-null uint8\n",
      "jobType_MANAGER           999995 non-null uint8\n",
      "jobType_SENIOR            999995 non-null uint8\n",
      "jobType_VICE_PRESIDENT    999995 non-null uint8\n",
      "degree_BACHELORS          999995 non-null uint8\n",
      "degree_DOCTORAL           999995 non-null uint8\n",
      "degree_HIGH_SCHOOL        999995 non-null uint8\n",
      "degree_MASTERS            999995 non-null uint8\n",
      "degree_NONE               999995 non-null uint8\n",
      "major_BIOLOGY             999995 non-null uint8\n",
      "major_BUSINESS            999995 non-null uint8\n",
      "major_CHEMISTRY           999995 non-null uint8\n",
      "major_COMPSCI             999995 non-null uint8\n",
      "major_ENGINEERING         999995 non-null uint8\n",
      "major_LITERATURE          999995 non-null uint8\n",
      "major_MATH                999995 non-null uint8\n",
      "major_NONE                999995 non-null uint8\n",
      "major_PHYSICS             999995 non-null uint8\n",
      "industry_AUTO             999995 non-null uint8\n",
      "industry_EDUCATION        999995 non-null uint8\n",
      "industry_FINANCE          999995 non-null uint8\n",
      "industry_HEALTH           999995 non-null uint8\n",
      "industry_OIL              999995 non-null uint8\n",
      "industry_SERVICE          999995 non-null uint8\n",
      "industry_WEB              999995 non-null uint8\n",
      "yearsExperience           999995 non-null int64\n",
      "milesFromMetropolis       999995 non-null int64\n",
      "dtypes: int64(2), uint8(92)\n",
      "memory usage: 150.6 MB\n"
     ]
    }
   ],
   "source": [
    "#combine the two variables in a new df\n",
    "new_train = pd.concat([cat_code_train, num_code_train], axis=1)\n",
    "new_train.info()"
   ]
  },
  {
   "cell_type": "code",
   "execution_count": 30,
   "metadata": {
    "scrolled": true
   },
   "outputs": [
    {
     "name": "stdout",
     "output_type": "stream",
     "text": [
      "<class 'pandas.core.frame.DataFrame'>\n",
      "Int64Index: 999995 entries, 0 to 999999\n",
      "Data columns (total 1 columns):\n",
      "salary    999995 non-null int64\n",
      "dtypes: int64(1)\n",
      "memory usage: 55.3 MB\n"
     ]
    }
   ],
   "source": [
    "#separate the target variable from training df\n",
    "new_target = train_df[['salary']]\n",
    "new_target.info()"
   ]
  },
  {
   "cell_type": "code",
   "execution_count": 31,
   "metadata": {},
   "outputs": [],
   "source": [
    "#separate categorical variables from numerical variables in the test df\n",
    "cat_test = test_feature[['companyId', 'jobType', 'degree', 'major', 'industry']]\n",
    "num_test = test_feature[['yearsExperience', 'milesFromMetropolis']]"
   ]
  },
  {
   "cell_type": "code",
   "execution_count": 32,
   "metadata": {},
   "outputs": [],
   "source": [
    "#encode the categorical variables in the test df\n",
    "cat_code_test = pd.get_dummies(cat_test)\n",
    "num_code_test = (num_test).apply(pd.to_numeric)"
   ]
  },
  {
   "cell_type": "code",
   "execution_count": 33,
   "metadata": {},
   "outputs": [
    {
     "name": "stdout",
     "output_type": "stream",
     "text": [
      "<class 'pandas.core.frame.DataFrame'>\n",
      "RangeIndex: 1000000 entries, 0 to 999999\n",
      "Data columns (total 94 columns):\n",
      "companyId_COMP0           1000000 non-null uint8\n",
      "companyId_COMP1           1000000 non-null uint8\n",
      "companyId_COMP10          1000000 non-null uint8\n",
      "companyId_COMP11          1000000 non-null uint8\n",
      "companyId_COMP12          1000000 non-null uint8\n",
      "companyId_COMP13          1000000 non-null uint8\n",
      "companyId_COMP14          1000000 non-null uint8\n",
      "companyId_COMP15          1000000 non-null uint8\n",
      "companyId_COMP16          1000000 non-null uint8\n",
      "companyId_COMP17          1000000 non-null uint8\n",
      "companyId_COMP18          1000000 non-null uint8\n",
      "companyId_COMP19          1000000 non-null uint8\n",
      "companyId_COMP2           1000000 non-null uint8\n",
      "companyId_COMP20          1000000 non-null uint8\n",
      "companyId_COMP21          1000000 non-null uint8\n",
      "companyId_COMP22          1000000 non-null uint8\n",
      "companyId_COMP23          1000000 non-null uint8\n",
      "companyId_COMP24          1000000 non-null uint8\n",
      "companyId_COMP25          1000000 non-null uint8\n",
      "companyId_COMP26          1000000 non-null uint8\n",
      "companyId_COMP27          1000000 non-null uint8\n",
      "companyId_COMP28          1000000 non-null uint8\n",
      "companyId_COMP29          1000000 non-null uint8\n",
      "companyId_COMP3           1000000 non-null uint8\n",
      "companyId_COMP30          1000000 non-null uint8\n",
      "companyId_COMP31          1000000 non-null uint8\n",
      "companyId_COMP32          1000000 non-null uint8\n",
      "companyId_COMP33          1000000 non-null uint8\n",
      "companyId_COMP34          1000000 non-null uint8\n",
      "companyId_COMP35          1000000 non-null uint8\n",
      "companyId_COMP36          1000000 non-null uint8\n",
      "companyId_COMP37          1000000 non-null uint8\n",
      "companyId_COMP38          1000000 non-null uint8\n",
      "companyId_COMP39          1000000 non-null uint8\n",
      "companyId_COMP4           1000000 non-null uint8\n",
      "companyId_COMP40          1000000 non-null uint8\n",
      "companyId_COMP41          1000000 non-null uint8\n",
      "companyId_COMP42          1000000 non-null uint8\n",
      "companyId_COMP43          1000000 non-null uint8\n",
      "companyId_COMP44          1000000 non-null uint8\n",
      "companyId_COMP45          1000000 non-null uint8\n",
      "companyId_COMP46          1000000 non-null uint8\n",
      "companyId_COMP47          1000000 non-null uint8\n",
      "companyId_COMP48          1000000 non-null uint8\n",
      "companyId_COMP49          1000000 non-null uint8\n",
      "companyId_COMP5           1000000 non-null uint8\n",
      "companyId_COMP50          1000000 non-null uint8\n",
      "companyId_COMP51          1000000 non-null uint8\n",
      "companyId_COMP52          1000000 non-null uint8\n",
      "companyId_COMP53          1000000 non-null uint8\n",
      "companyId_COMP54          1000000 non-null uint8\n",
      "companyId_COMP55          1000000 non-null uint8\n",
      "companyId_COMP56          1000000 non-null uint8\n",
      "companyId_COMP57          1000000 non-null uint8\n",
      "companyId_COMP58          1000000 non-null uint8\n",
      "companyId_COMP59          1000000 non-null uint8\n",
      "companyId_COMP6           1000000 non-null uint8\n",
      "companyId_COMP60          1000000 non-null uint8\n",
      "companyId_COMP61          1000000 non-null uint8\n",
      "companyId_COMP62          1000000 non-null uint8\n",
      "companyId_COMP7           1000000 non-null uint8\n",
      "companyId_COMP8           1000000 non-null uint8\n",
      "companyId_COMP9           1000000 non-null uint8\n",
      "jobType_CEO               1000000 non-null uint8\n",
      "jobType_CFO               1000000 non-null uint8\n",
      "jobType_CTO               1000000 non-null uint8\n",
      "jobType_JANITOR           1000000 non-null uint8\n",
      "jobType_JUNIOR            1000000 non-null uint8\n",
      "jobType_MANAGER           1000000 non-null uint8\n",
      "jobType_SENIOR            1000000 non-null uint8\n",
      "jobType_VICE_PRESIDENT    1000000 non-null uint8\n",
      "degree_BACHELORS          1000000 non-null uint8\n",
      "degree_DOCTORAL           1000000 non-null uint8\n",
      "degree_HIGH_SCHOOL        1000000 non-null uint8\n",
      "degree_MASTERS            1000000 non-null uint8\n",
      "degree_NONE               1000000 non-null uint8\n",
      "major_BIOLOGY             1000000 non-null uint8\n",
      "major_BUSINESS            1000000 non-null uint8\n",
      "major_CHEMISTRY           1000000 non-null uint8\n",
      "major_COMPSCI             1000000 non-null uint8\n",
      "major_ENGINEERING         1000000 non-null uint8\n",
      "major_LITERATURE          1000000 non-null uint8\n",
      "major_MATH                1000000 non-null uint8\n",
      "major_NONE                1000000 non-null uint8\n",
      "major_PHYSICS             1000000 non-null uint8\n",
      "industry_AUTO             1000000 non-null uint8\n",
      "industry_EDUCATION        1000000 non-null uint8\n",
      "industry_FINANCE          1000000 non-null uint8\n",
      "industry_HEALTH           1000000 non-null uint8\n",
      "industry_OIL              1000000 non-null uint8\n",
      "industry_SERVICE          1000000 non-null uint8\n",
      "industry_WEB              1000000 non-null uint8\n",
      "yearsExperience           1000000 non-null int64\n",
      "milesFromMetropolis       1000000 non-null int64\n",
      "dtypes: int64(2), uint8(92)\n",
      "memory usage: 103.0 MB\n"
     ]
    }
   ],
   "source": [
    "#combine the two variables one new test df\n",
    "new_test = pd.concat([cat_code_test, num_code_test], axis=1)\n",
    "new_test.info()"
   ]
  },
  {
   "cell_type": "code",
   "execution_count": 34,
   "metadata": {},
   "outputs": [],
   "source": [
    "#split the new df to training and test\n",
    "from sklearn.model_selection import train_test_split\n",
    "train_ind, test_ind, train_dep, test_dep = train_test_split(new_train, new_target, test_size=0.25, random_state=42)"
   ]
  },
  {
   "cell_type": "markdown",
   "metadata": {},
   "source": [
    "### ---- 5 Establish a baseline ----"
   ]
  },
  {
   "cell_type": "markdown",
   "metadata": {},
   "source": [
    "## Applying Linear Regression Model"
   ]
  },
  {
   "cell_type": "code",
   "execution_count": 35,
   "metadata": {},
   "outputs": [],
   "source": [
    "#importing packages\n",
    "from sklearn.linear_model import LinearRegression\n",
    "from sklearn.metrics import mean_squared_error\n",
    "\n",
    "#appling linear regression\n",
    "ln = LinearRegression()\n",
    "ln_train = ln.fit(train_ind, train_dep)"
   ]
  },
  {
   "cell_type": "code",
   "execution_count": 36,
   "metadata": {},
   "outputs": [],
   "source": [
    "#calculate the prediction\n",
    "ln_test = ln.predict(test_ind)"
   ]
  },
  {
   "cell_type": "code",
   "execution_count": 37,
   "metadata": {},
   "outputs": [
    {
     "name": "stdout",
     "output_type": "stream",
     "text": [
      "ln MSE= 384.604713154\n"
     ]
    }
   ],
   "source": [
    "#calculationg the mean squared errro\n",
    "print('ln MSE=',mean_squared_error(test_dep, ln_test))"
   ]
  },
  {
   "cell_type": "code",
   "execution_count": 38,
   "metadata": {
    "scrolled": true
   },
   "outputs": [
    {
     "data": {
      "text/plain": [
       "<matplotlib.axes._subplots.AxesSubplot at 0x7fc7a7a20470>"
      ]
     },
     "execution_count": 38,
     "metadata": {},
     "output_type": "execute_result"
    },
    {
     "data": {
      "image/png": "[encoded data removed]",
      "text/plain": [
       "<matplotlib.figure.Figure at 0x7fc7a7a30dd8>"
      ]
     },
     "metadata": {},
     "output_type": "display_data"
    }
   ],
   "source": [
    "#evalute the ln prediction in the test data\n",
    "ax1 = sns.distplot(test_dep, hist=False, color=\"r\", label=\"Real Values\")\n",
    "sns.distplot(ln_test, hist=False, color=\"b\", label=\"Predicted Values\" , ax=ax1)"
   ]
  },
  {
   "cell_type": "markdown",
   "metadata": {},
   "source": [
    "## Aplying Random Forest Model"
   ]
  },
  {
   "cell_type": "code",
   "execution_count": 39,
   "metadata": {},
   "outputs": [],
   "source": [
    "#importing packages\n",
    "from sklearn.ensemble import RandomForestRegressor\n",
    "\n",
    "#applying random forest\n",
    "rf = RandomForestRegressor(n_estimators=60,max_depth=25, min_samples_split=60,max_features='auto',n_jobs=-1)\n",
    "rf_train = rf.fit(train_ind, train_dep.values.ravel())"
   ]
  },
  {
   "cell_type": "code",
   "execution_count": 40,
   "metadata": {},
   "outputs": [],
   "source": [
    "#calculate the prediction\n",
    "rf_test = rf.predict(test_ind)"
   ]
  },
  {
   "cell_type": "code",
   "execution_count": 41,
   "metadata": {},
   "outputs": [
    {
     "name": "stdout",
     "output_type": "stream",
     "text": [
      "rf MSE= 370.857497935\n"
     ]
    }
   ],
   "source": [
    "#calculationg the mean squared errro\n",
    "print('rf MSE=',mean_squared_error(test_dep, rf_test))"
   ]
  },
  {
   "cell_type": "code",
   "execution_count": 53,
   "metadata": {},
   "outputs": [
    {
     "data": {
      "text/plain": [
       "<matplotlib.axes._subplots.AxesSubplot at 0x7fc7a7b88ac8>"
      ]
     },
     "execution_count": 53,
     "metadata": {},
     "output_type": "execute_result"
    },
    {
     "data": {
      "image/png": "[encoded data removed]",
      "text/plain": [
       "<matplotlib.figure.Figure at 0x7fc796916320>"
      ]
     },
     "metadata": {},
     "output_type": "display_data"
    }
   ],
   "source": [
    "#evalute the rf prediction in the test data\n",
    "ax2 = sns.distplot(test_dep, hist=False, color=\"r\", label=\"Real Values\")\n",
    "sns.distplot(rf_test, hist=False, color=\"b\", label=\"Predicted Values\" , ax=ax2)"
   ]
  },
  {
   "cell_type": "markdown",
   "metadata": {},
   "source": [
    "## Applying Gradient Boosting Regressor Model"
   ]
  },
  {
   "cell_type": "code",
   "execution_count": 43,
   "metadata": {},
   "outputs": [],
   "source": [
    "#importing packages\n",
    "from sklearn.ensemble import GradientBoostingRegressor\n",
    "\n",
    "#appling linear regression\n",
    "gb = GradientBoostingRegressor(n_estimators=200, max_depth=3, learning_rate=0.1, min_samples_split=2, )\n",
    "gb_train = gb.fit(train_ind, train_dep.values.ravel())"
   ]
  },
  {
   "cell_type": "code",
   "execution_count": 44,
   "metadata": {},
   "outputs": [],
   "source": [
    "#calculate the prediction\n",
    "gb_test = gb.predict(test_ind) "
   ]
  },
  {
   "cell_type": "code",
   "execution_count": 45,
   "metadata": {},
   "outputs": [
    {
     "name": "stdout",
     "output_type": "stream",
     "text": [
      "gb MSE= 359.305210083\n"
     ]
    }
   ],
   "source": [
    "#calculationg the mean squared errro\n",
    "print('gb MSE=',mean_squared_error(test_dep, gb_test))"
   ]
  },
  {
   "cell_type": "code",
   "execution_count": 52,
   "metadata": {},
   "outputs": [
    {
     "data": {
      "text/plain": [
       "<matplotlib.axes._subplots.AxesSubplot at 0x7fc7a7bec780>"
      ]
     },
     "execution_count": 52,
     "metadata": {},
     "output_type": "execute_result"
    },
    {
     "data": {
      "image/png": "[encoded data removed]",
      "text/plain": [
       "<matplotlib.figure.Figure at 0x7fc7a7bd26a0>"
      ]
     },
     "metadata": {},
     "output_type": "display_data"
    }
   ],
   "source": [
    "#evalute the gb prediction in the test data\n",
    "ax3 = sns.distplot(test_dep, hist=False, color=\"r\", label=\"Real Values\")\n",
    "sns.distplot(gb_test, hist=False, color=\"b\", label=\"Predicted Values\" , ax=ax3)"
   ]
  },
  {
   "cell_type": "markdown",
   "metadata": {},
   "source": [
    "### ---- 6 Select best model  ----"
   ]
  },
  {
   "cell_type": "markdown",
   "metadata": {},
   "source": [
    "The best model will be Gradient Boosting Regressor since it has the minimum mean squared error = 359.3"
   ]
  },
  {
   "cell_type": "code",
   "execution_count": 47,
   "metadata": {},
   "outputs": [
    {
     "name": "stdout",
     "output_type": "stream",
     "text": [
      "fitting ...\n",
      "predicting ...\n"
     ]
    }
   ],
   "source": [
    "#train model on entire dataset\n",
    "print('fitting ...')\n",
    "best_train = gb.fit(new_train, new_target.values.ravel())\n",
    "\n",
    "#create predictions based on test data\n",
    "print('predicting ...')\n",
    "best_pred = gb.predict(new_test)"
   ]
  },
  {
   "cell_type": "code",
   "execution_count": 48,
   "metadata": {},
   "outputs": [
    {
     "data": {
      "text/html": [
       "<div>\n",
       "<style scoped>\n",
       "    .dataframe tbody tr th:only-of-type {\n",
       "        vertical-align: middle;\n",
       "    }\n",
       "\n",
       "    .dataframe tbody tr th {\n",
       "        vertical-align: top;\n",
       "    }\n",
       "\n",
       "    .dataframe thead th {\n",
       "        text-align: right;\n",
       "    }\n",
       "</style>\n",
       "<table border=\"1\" class=\"dataframe\">\n",
       "  <thead>\n",
       "    <tr style=\"text-align: right;\">\n",
       "      <th></th>\n",
       "      <th>companyId_COMP0</th>\n",
       "      <th>companyId_COMP1</th>\n",
       "      <th>companyId_COMP10</th>\n",
       "      <th>companyId_COMP11</th>\n",
       "      <th>companyId_COMP12</th>\n",
       "      <th>companyId_COMP13</th>\n",
       "      <th>companyId_COMP14</th>\n",
       "      <th>companyId_COMP15</th>\n",
       "      <th>companyId_COMP16</th>\n",
       "      <th>companyId_COMP17</th>\n",
       "      <th>...</th>\n",
       "      <th>industry_AUTO</th>\n",
       "      <th>industry_EDUCATION</th>\n",
       "      <th>industry_FINANCE</th>\n",
       "      <th>industry_HEALTH</th>\n",
       "      <th>industry_OIL</th>\n",
       "      <th>industry_SERVICE</th>\n",
       "      <th>industry_WEB</th>\n",
       "      <th>yearsExperience</th>\n",
       "      <th>milesFromMetropolis</th>\n",
       "      <th>expected_salary</th>\n",
       "    </tr>\n",
       "  </thead>\n",
       "  <tbody>\n",
       "    <tr>\n",
       "      <th>0</th>\n",
       "      <td>0</td>\n",
       "      <td>0</td>\n",
       "      <td>0</td>\n",
       "      <td>0</td>\n",
       "      <td>0</td>\n",
       "      <td>0</td>\n",
       "      <td>0</td>\n",
       "      <td>0</td>\n",
       "      <td>0</td>\n",
       "      <td>0</td>\n",
       "      <td>...</td>\n",
       "      <td>0</td>\n",
       "      <td>0</td>\n",
       "      <td>0</td>\n",
       "      <td>1</td>\n",
       "      <td>0</td>\n",
       "      <td>0</td>\n",
       "      <td>0</td>\n",
       "      <td>22</td>\n",
       "      <td>73</td>\n",
       "      <td>109.915448</td>\n",
       "    </tr>\n",
       "    <tr>\n",
       "      <th>1</th>\n",
       "      <td>0</td>\n",
       "      <td>0</td>\n",
       "      <td>0</td>\n",
       "      <td>0</td>\n",
       "      <td>0</td>\n",
       "      <td>1</td>\n",
       "      <td>0</td>\n",
       "      <td>0</td>\n",
       "      <td>0</td>\n",
       "      <td>0</td>\n",
       "      <td>...</td>\n",
       "      <td>1</td>\n",
       "      <td>0</td>\n",
       "      <td>0</td>\n",
       "      <td>0</td>\n",
       "      <td>0</td>\n",
       "      <td>0</td>\n",
       "      <td>0</td>\n",
       "      <td>20</td>\n",
       "      <td>47</td>\n",
       "      <td>91.965121</td>\n",
       "    </tr>\n",
       "    <tr>\n",
       "      <th>2</th>\n",
       "      <td>0</td>\n",
       "      <td>0</td>\n",
       "      <td>1</td>\n",
       "      <td>0</td>\n",
       "      <td>0</td>\n",
       "      <td>0</td>\n",
       "      <td>0</td>\n",
       "      <td>0</td>\n",
       "      <td>0</td>\n",
       "      <td>0</td>\n",
       "      <td>...</td>\n",
       "      <td>0</td>\n",
       "      <td>0</td>\n",
       "      <td>0</td>\n",
       "      <td>1</td>\n",
       "      <td>0</td>\n",
       "      <td>0</td>\n",
       "      <td>0</td>\n",
       "      <td>17</td>\n",
       "      <td>9</td>\n",
       "      <td>179.345506</td>\n",
       "    </tr>\n",
       "    <tr>\n",
       "      <th>3</th>\n",
       "      <td>0</td>\n",
       "      <td>0</td>\n",
       "      <td>0</td>\n",
       "      <td>0</td>\n",
       "      <td>0</td>\n",
       "      <td>0</td>\n",
       "      <td>0</td>\n",
       "      <td>0</td>\n",
       "      <td>0</td>\n",
       "      <td>0</td>\n",
       "      <td>...</td>\n",
       "      <td>0</td>\n",
       "      <td>0</td>\n",
       "      <td>0</td>\n",
       "      <td>0</td>\n",
       "      <td>1</td>\n",
       "      <td>0</td>\n",
       "      <td>0</td>\n",
       "      <td>14</td>\n",
       "      <td>96</td>\n",
       "      <td>104.575236</td>\n",
       "    </tr>\n",
       "    <tr>\n",
       "      <th>4</th>\n",
       "      <td>0</td>\n",
       "      <td>0</td>\n",
       "      <td>0</td>\n",
       "      <td>0</td>\n",
       "      <td>0</td>\n",
       "      <td>0</td>\n",
       "      <td>0</td>\n",
       "      <td>0</td>\n",
       "      <td>0</td>\n",
       "      <td>0</td>\n",
       "      <td>...</td>\n",
       "      <td>0</td>\n",
       "      <td>0</td>\n",
       "      <td>0</td>\n",
       "      <td>0</td>\n",
       "      <td>1</td>\n",
       "      <td>0</td>\n",
       "      <td>0</td>\n",
       "      <td>10</td>\n",
       "      <td>44</td>\n",
       "      <td>113.966466</td>\n",
       "    </tr>\n",
       "  </tbody>\n",
       "</table>\n",
       "<p>5 rows × 95 columns</p>\n",
       "</div>"
      ],
      "text/plain": [
       "   companyId_COMP0  companyId_COMP1  companyId_COMP10  companyId_COMP11  \\\n",
       "0                0                0                 0                 0   \n",
       "1                0                0                 0                 0   \n",
       "2                0                0                 1                 0   \n",
       "3                0                0                 0                 0   \n",
       "4                0                0                 0                 0   \n",
       "\n",
       "   companyId_COMP12  companyId_COMP13  companyId_COMP14  companyId_COMP15  \\\n",
       "0                 0                 0                 0                 0   \n",
       "1                 0                 1                 0                 0   \n",
       "2                 0                 0                 0                 0   \n",
       "3                 0                 0                 0                 0   \n",
       "4                 0                 0                 0                 0   \n",
       "\n",
       "   companyId_COMP16  companyId_COMP17       ...         industry_AUTO  \\\n",
       "0                 0                 0       ...                     0   \n",
       "1                 0                 0       ...                     1   \n",
       "2                 0                 0       ...                     0   \n",
       "3                 0                 0       ...                     0   \n",
       "4                 0                 0       ...                     0   \n",
       "\n",
       "   industry_EDUCATION  industry_FINANCE  industry_HEALTH  industry_OIL  \\\n",
       "0                   0                 0                1             0   \n",
       "1                   0                 0                0             0   \n",
       "2                   0                 0                1             0   \n",
       "3                   0                 0                0             1   \n",
       "4                   0                 0                0             1   \n",
       "\n",
       "   industry_SERVICE  industry_WEB  yearsExperience  milesFromMetropolis  \\\n",
       "0                 0             0               22                   73   \n",
       "1                 0             0               20                   47   \n",
       "2                 0             0               17                    9   \n",
       "3                 0             0               14                   96   \n",
       "4                 0             0               10                   44   \n",
       "\n",
       "   expected_salary  \n",
       "0       109.915448  \n",
       "1        91.965121  \n",
       "2       179.345506  \n",
       "3       104.575236  \n",
       "4       113.966466  \n",
       "\n",
       "[5 rows x 95 columns]"
      ]
     },
     "execution_count": 48,
     "metadata": {},
     "output_type": "execute_result"
    }
   ],
   "source": [
    "#summary of prediction\n",
    "new_pred = pd.DataFrame(best_pred)\n",
    "prd_df = pd.concat([new_test, new_pred], axis=1)\n",
    "pred_df = prd_df.rename(columns={0: 'expected_salary'})\n",
    "pred_df.head()"
   ]
  },
  {
   "cell_type": "code",
   "execution_count": 49,
   "metadata": {},
   "outputs": [],
   "source": [
    "#saveing prediction to a csv file\n",
    "pred_df.to_csv('data/prediction_df.csv')"
   ]
  },
  {
   "cell_type": "markdown",
   "metadata": {},
   "source": [
    "## Part 4 - DEPLOY"
   ]
  },
  {
   "cell_type": "markdown",
   "metadata": {},
   "source": [
    "### ---- 1 Deploy solution ----"
   ]
  },
  {
   "cell_type": "code",
   "execution_count": 50,
   "metadata": {},
   "outputs": [
    {
     "data": {
      "text/plain": [
       "Text(0.5,0,'Feature importance')"
      ]
     },
     "execution_count": 50,
     "metadata": {},
     "output_type": "execute_result"
    },
    {
     "data": {
      "image/png": "[encoded data removed]",
      "text/plain": [
       "<matplotlib.figure.Figure at 0x7fc7a7b88b38>"
      ]
     },
     "metadata": {},
     "output_type": "display_data"
    }
   ],
   "source": [
    "#visualization of feature importance's\n",
    "fi = pd.Series(gb.feature_importances_, index=new_train.columns).nlargest(10).plot(kind='bar')\n",
    "plt.xlabel('Feature importance')"
   ]
  },
  {
   "cell_type": "markdown",
   "metadata": {},
   "source": [
    "We notice that the year of experience is the most importance feature among all other features."
   ]
  }
 ],
 "metadata": {
  "kernelspec": {
   "display_name": "Python 3",
   "language": "python",
   "name": "python3"
  },
  "language_info": {
   "codemirror_mode": {
    "name": "ipython",
    "version": 3
   },
   "file_extension": ".py",
   "mimetype": "text/x-python",
   "name": "python",
   "nbconvert_exporter": "python",
   "pygments_lexer": "ipython3",
   "version": "3.6.9"
  }
 },
 "nbformat": 4,
 "nbformat_minor": 2
}
